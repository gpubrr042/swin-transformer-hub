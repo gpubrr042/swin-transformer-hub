{
 "cells": [
  {
   "cell_type": "code",
   "execution_count": 54,
   "id": "fca8442b-ecc3-46d7-93fc-23bc5d2cc7f2",
   "metadata": {},
   "outputs": [],
   "source": [
    "import torch\n",
    "from torch import nn\n",
    "import numpy as np\n",
    "from torchvision import transforms as T\n",
    "import timm\n",
    "import torchinfo\n",
    "from PIL import Image\n",
    "import json"
   ]
  },
  {
   "cell_type": "code",
   "execution_count": 2,
   "id": "1179e50f-766e-4bdb-a7d7-3930470a665c",
   "metadata": {},
   "outputs": [],
   "source": [
    "import swin"
   ]
  },
  {
   "cell_type": "code",
   "execution_count": 3,
   "id": "1d868ba1-da8a-44dc-a8ba-f5ed394e29b2",
   "metadata": {},
   "outputs": [
    {
     "data": {
      "text/plain": [
       "<All keys matched successfully>"
      ]
     },
     "execution_count": 3,
     "metadata": {},
     "output_type": "execute_result"
    }
   ],
   "source": [
    "swin_transformer = swin.SwinTransformer() # default config is swin_tiny_patch4_window7_224\n",
    "state_dict = torch.load(\"swin_tiny_patch4_window7_224.pth\", map_location=\"cpu\")[\"model\"]\n",
    "swin_transformer.load_state_dict(state_dict)"
   ]
  },
  {
   "cell_type": "code",
   "execution_count": 11,
   "id": "3be05a9d-c64f-4310-9c75-60ddecd0ed91",
   "metadata": {
    "scrolled": true,
    "tags": []
   },
   "outputs": [
    {
     "data": {
      "text/plain": [
       "====================================================================================================\n",
       "Layer (type:depth-idx)                             Output Shape              Param #\n",
       "====================================================================================================\n",
       "SwinTransformer                                    --                        --\n",
       "├─ModuleList: 1-1                                  --                        --\n",
       "│    └─BasicLayer: 2                               --                        --\n",
       "│    │    └─ModuleList: 3-1                        --                        224,694\n",
       "│    └─BasicLayer: 2                               --                        --\n",
       "│    │    └─ModuleList: 3-2                        --                        891,756\n",
       "│    └─BasicLayer: 2                               --                        --\n",
       "│    │    └─ModuleList: 3-3                        --                        10,658,952\n",
       "│    └─BasicLayer: 2                               --                        --\n",
       "│    │    └─ModuleList: 3-4                        --                        14,183,856\n",
       "├─PatchEmbed: 1-2                                  [64, 3136, 96]            --\n",
       "│    └─Conv2d: 2-1                                 [64, 96, 56, 56]          4,704\n",
       "│    └─LayerNorm: 2-2                              [64, 3136, 96]            192\n",
       "├─Dropout: 1-3                                     [64, 3136, 96]            --\n",
       "├─ModuleList: 1-1                                  --                        --\n",
       "│    └─BasicLayer: 2-3                             [64, 784, 192]            --\n",
       "│    │    └─PatchMerging: 3-5                      [64, 784, 192]            74,496\n",
       "│    └─BasicLayer: 2-4                             [64, 196, 384]            --\n",
       "│    │    └─PatchMerging: 3-6                      [64, 196, 384]            296,448\n",
       "│    └─BasicLayer: 2-5                             [64, 49, 768]             --\n",
       "│    │    └─PatchMerging: 3-7                      [64, 49, 768]             1,182,720\n",
       "│    └─BasicLayer: 2-6                             [64, 49, 768]             --\n",
       "├─LayerNorm: 1-4                                   [64, 49, 768]             1,536\n",
       "├─AdaptiveAvgPool1d: 1-5                           [64, 768, 1]              --\n",
       "├─Linear: 1-6                                      [64, 1000]                769,000\n",
       "====================================================================================================\n",
       "Total params: 28,265,032\n",
       "Trainable params: 28,265,032\n",
       "Non-trainable params: 0\n",
       "Total mult-adds (G): 4.02\n",
       "====================================================================================================\n",
       "Input size (MB): 38.54\n",
       "Forward/backward pass size (MB): 8786.53\n",
       "Params size (MB): 113.06\n",
       "Estimated Total Size (MB): 8938.13\n",
       "===================================================================================================="
      ]
     },
     "execution_count": 11,
     "metadata": {},
     "output_type": "execute_result"
    }
   ],
   "source": [
    "torchinfo.summary(swin_transformer, (64, 3, 224, 224))"
   ]
  },
  {
   "cell_type": "code",
   "execution_count": 12,
   "id": "0f74207e-93c9-421b-9220-4e2fe9c63902",
   "metadata": {},
   "outputs": [],
   "source": [
    "torch.cuda.empty_cache()"
   ]
  },
  {
   "cell_type": "code",
   "execution_count": 17,
   "id": "2ff0caaf-42d2-42ae-9f2b-e739f0b3316f",
   "metadata": {},
   "outputs": [],
   "source": [
    "import os\n",
    "def print_size_of_model(model):\n",
    "    torch.save(model.state_dict(), \"temp.p\")\n",
    "    print('Size (MB):', os.path.getsize(\"temp.p\")/1e6)\n",
    "    os.remove('temp.p')"
   ]
  },
  {
   "cell_type": "code",
   "execution_count": 18,
   "id": "446af057-8251-4442-a045-b98cedde673e",
   "metadata": {},
   "outputs": [
    {
     "name": "stdout",
     "output_type": "stream",
     "text": [
      "Size (MB): 114.334469\n"
     ]
    }
   ],
   "source": [
    "print_size_of_model(swin_transformer)"
   ]
  },
  {
   "cell_type": "code",
   "execution_count": 69,
   "id": "39498244-219d-4c37-896c-e94cfb196888",
   "metadata": {},
   "outputs": [],
   "source": [
    "import torch.quantization\n",
    "torch.backends.quantized.engine = 'qnnpack'\n",
    "quantized_swin = torch.quantization.quantize_dynamic(\n",
    "    swin_transformer, {torch.nn.Linear}, dtype=torch.qint8\n",
    ")"
   ]
  },
  {
   "cell_type": "code",
   "execution_count": 70,
   "id": "2b91d018-5955-4ef6-8ad4-8fa9fc4a332c",
   "metadata": {},
   "outputs": [
    {
     "name": "stdout",
     "output_type": "stream",
     "text": [
      "Size (MB): 29.793839\n"
     ]
    }
   ],
   "source": [
    "print_size_of_model(quantized_swin)"
   ]
  },
  {
   "cell_type": "code",
   "execution_count": 59,
   "id": "2920f682-187f-4194-90cd-1f224cc4acd4",
   "metadata": {},
   "outputs": [],
   "source": [
    "labels = json.load(open(\"imagenet_labels.json\", mode=\"r\"))"
   ]
  },
  {
   "cell_type": "code",
   "execution_count": 22,
   "id": "087afd16-a411-4565-a828-adae65b8bd83",
   "metadata": {},
   "outputs": [],
   "source": [
    "transform = T.Compose([\n",
    "    T.Resize(256),\n",
    "    T.CenterCrop(224),\n",
    "    T.ToTensor(),\n",
    "    T.Normalize(timm.data.IMAGENET_DEFAULT_MEAN, timm.data.IMAGENET_DEFAULT_STD)\n",
    "])"
   ]
  },
  {
   "cell_type": "code",
   "execution_count": 31,
   "id": "96452897-3068-4b83-8795-5179321bbfdc",
   "metadata": {},
   "outputs": [],
   "source": [
    "def get_input(filepath):\n",
    "    img = Image.open(filepath).convert(\"RGB\")\n",
    "    timg = transform(img)\n",
    "    return timg.unsqueeze(0)"
   ]
  },
  {
   "cell_type": "code",
   "execution_count": 32,
   "id": "718b52c3-ad42-449f-8fd2-d091899cef09",
   "metadata": {},
   "outputs": [],
   "source": [
    "cheetah_img = get_input(\"../animals/dataset/acinonyx-jubatus/13.jpg\")"
   ]
  },
  {
   "cell_type": "code",
   "execution_count": 63,
   "id": "afd5bcf8-9411-4429-8a37-860409a2df3b",
   "metadata": {},
   "outputs": [
    {
     "name": "stdout",
     "output_type": "stream",
     "text": [
      "cheetah\n",
      "CPU times: user 234 ms, sys: 35.1 ms, total: 269 ms\n",
      "Wall time: 99.9 ms\n"
     ]
    }
   ],
   "source": [
    "%%time\n",
    "with torch.no_grad():\n",
    "    out = swin_transformer(cheetah_img)\n",
    "    pred = out.argmax(dim=1).item()\n",
    "    print(labels[pred])"
   ]
  },
  {
   "cell_type": "code",
   "execution_count": 64,
   "id": "df5c48d1-4795-480e-a8f4-07c0f7939b9d",
   "metadata": {},
   "outputs": [
    {
     "name": "stdout",
     "output_type": "stream",
     "text": [
      "cheetah\n",
      "CPU times: user 262 ms, sys: 27.6 ms, total: 289 ms\n",
      "Wall time: 82.5 ms\n"
     ]
    }
   ],
   "source": [
    "%%time\n",
    "with torch.no_grad():\n",
    "    quantized_out = quantized_swin(cheetah_img)\n",
    "    pred = out.argmax(dim=1).item()\n",
    "    print(labels[pred])"
   ]
  },
  {
   "cell_type": "code",
   "execution_count": null,
   "id": "0ab86dea-ba12-4d56-8ae7-0492ca3dd0fd",
   "metadata": {},
   "outputs": [],
   "source": []
  }
 ],
 "metadata": {
  "kernelspec": {
   "display_name": "Python 3 (ipykernel)",
   "language": "python",
   "name": "python3"
  },
  "language_info": {
   "codemirror_mode": {
    "name": "ipython",
    "version": 3
   },
   "file_extension": ".py",
   "mimetype": "text/x-python",
   "name": "python",
   "nbconvert_exporter": "python",
   "pygments_lexer": "ipython3",
   "version": "3.9.4"
  }
 },
 "nbformat": 4,
 "nbformat_minor": 5
}
